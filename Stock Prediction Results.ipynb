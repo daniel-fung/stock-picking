{
 "cells": [
  {
   "cell_type": "code",
   "execution_count": 1,
   "metadata": {},
   "outputs": [],
   "source": [
    "import pandas as pd"
   ]
  },
  {
   "cell_type": "code",
   "execution_count": 3,
   "metadata": {},
   "outputs": [],
   "source": [
    "data_dir=\"data\""
   ]
  },
  {
   "cell_type": "code",
   "execution_count": 7,
   "metadata": {},
   "outputs": [],
   "source": [
    "file_name = f\"{data_dir}/prediction_results.csv\"\n",
    "\n",
    "cols = ((\"prediction_date\", \"datetime64[ns]\", True),\n",
    "        (\"author\", str, True),\n",
    "        (\"ticker\", str, True),\n",
    "        (\"upper_target_price\", float, False),\n",
    "        (\"low_target_price\", float, False),\n",
    "        (\"stop_loss_price\", float, False),\n",
    "        (\"result\", str, False))\n",
    "\n",
    "index = list((col[0] for col in filter(lambda cols: cols[2], cols)))\n",
    "\n",
    "results = pd.read_csv(file_name)\n",
    "for c, t, i in cols:\n",
    "    results[c] = results[c].astype(t)\n",
    "\n",
    "results = results.set_index(index)"
   ]
  },
  {
   "cell_type": "code",
   "execution_count": 8,
   "metadata": {},
   "outputs": [
    {
     "data": {
      "text/html": [
       "<div>\n",
       "<style scoped>\n",
       "    .dataframe tbody tr th:only-of-type {\n",
       "        vertical-align: middle;\n",
       "    }\n",
       "\n",
       "    .dataframe tbody tr th {\n",
       "        vertical-align: top;\n",
       "    }\n",
       "\n",
       "    .dataframe thead th {\n",
       "        text-align: right;\n",
       "    }\n",
       "</style>\n",
       "<table border=\"1\" class=\"dataframe\">\n",
       "  <thead>\n",
       "    <tr style=\"text-align: right;\">\n",
       "      <th></th>\n",
       "      <th></th>\n",
       "      <th></th>\n",
       "      <th>upper_target_price</th>\n",
       "      <th>low_target_price</th>\n",
       "      <th>stop_loss_price</th>\n",
       "      <th>result</th>\n",
       "    </tr>\n",
       "    <tr>\n",
       "      <th>prediction_date</th>\n",
       "      <th>author</th>\n",
       "      <th>ticker</th>\n",
       "      <th></th>\n",
       "      <th></th>\n",
       "      <th></th>\n",
       "      <th></th>\n",
       "    </tr>\n",
       "  </thead>\n",
       "  <tbody>\n",
       "    <tr>\n",
       "      <th>2019-07-02</th>\n",
       "      <th>邱古奇</th>\n",
       "      <th>1347.HK</th>\n",
       "      <td>18.0</td>\n",
       "      <td>17.3</td>\n",
       "      <td>14.3000</td>\n",
       "      <td>Loss</td>\n",
       "    </tr>\n",
       "    <tr>\n",
       "      <th>2019-01-04</th>\n",
       "      <th>邱古奇</th>\n",
       "      <th>1787.HK</th>\n",
       "      <td>0.0</td>\n",
       "      <td>0.0</td>\n",
       "      <td>0.0000</td>\n",
       "      <td>Profit</td>\n",
       "    </tr>\n",
       "    <tr>\n",
       "      <th>2019-01-07</th>\n",
       "      <th>邱古奇</th>\n",
       "      <th>0323.HK</th>\n",
       "      <td>3.7</td>\n",
       "      <td>3.5</td>\n",
       "      <td>2.7837</td>\n",
       "      <td>Profit</td>\n",
       "    </tr>\n",
       "    <tr>\n",
       "      <th>2019-01-08</th>\n",
       "      <th>邱古奇</th>\n",
       "      <th>2342.HK</th>\n",
       "      <td>0.0</td>\n",
       "      <td>1.7</td>\n",
       "      <td>1.4220</td>\n",
       "      <td>Profit</td>\n",
       "    </tr>\n",
       "  </tbody>\n",
       "</table>\n",
       "</div>"
      ],
      "text/plain": [
       "                                upper_target_price  low_target_price  \\\n",
       "prediction_date author ticker                                          \n",
       "2019-07-02      邱古奇    1347.HK                18.0              17.3   \n",
       "2019-01-04      邱古奇    1787.HK                 0.0               0.0   \n",
       "2019-01-07      邱古奇    0323.HK                 3.7               3.5   \n",
       "2019-01-08      邱古奇    2342.HK                 0.0               1.7   \n",
       "\n",
       "                                stop_loss_price  result  \n",
       "prediction_date author ticker                            \n",
       "2019-07-02      邱古奇    1347.HK          14.3000    Loss  \n",
       "2019-01-04      邱古奇    1787.HK           0.0000  Profit  \n",
       "2019-01-07      邱古奇    0323.HK           2.7837  Profit  \n",
       "2019-01-08      邱古奇    2342.HK           1.4220  Profit  "
      ]
     },
     "execution_count": 8,
     "metadata": {},
     "output_type": "execute_result"
    }
   ],
   "source": [
    "results"
   ]
  }
 ],
 "metadata": {
  "kernelspec": {
   "display_name": "Python 3",
   "language": "python",
   "name": "python3"
  },
  "language_info": {
   "codemirror_mode": {
    "name": "ipython",
    "version": 3
   },
   "file_extension": ".py",
   "mimetype": "text/x-python",
   "name": "python",
   "nbconvert_exporter": "python",
   "pygments_lexer": "ipython3",
   "version": "3.8.0"
  }
 },
 "nbformat": 4,
 "nbformat_minor": 4
}
