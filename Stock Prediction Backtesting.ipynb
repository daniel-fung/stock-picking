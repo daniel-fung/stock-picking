{
 "cells": [
  {
   "cell_type": "code",
   "execution_count": 1,
   "metadata": {},
   "outputs": [],
   "source": [
    "import yfinance as yf\n",
    "\n",
    "import pandas as pd\n",
    "import numpy as np\n",
    "\n",
    "from ipywidgets import interact, interact_manual\n",
    "import ipywidgets as widgets\n",
    "\n",
    "from datetime import date, timedelta\n",
    "import os\n",
    "import os.path\n",
    "import time"
   ]
  },
  {
   "cell_type": "code",
   "execution_count": 4,
   "metadata": {},
   "outputs": [],
   "source": [
    "import matplotlib.pyplot as plt\n",
    "import matplotlib.font_manager as mfm\n",
    "\n",
    "%matplotlib inline\n",
    "\n",
    "font_path = \"/usr/share/fonts/opentype/cff/OTF/TraditionalChinese/SourceHanSerifTC-Regular.otf\"\n",
    "prop = mfm.FontProperties(fname=font_path) # find this font"
   ]
  },
  {
   "cell_type": "code",
   "execution_count": 5,
   "metadata": {},
   "outputs": [],
   "source": [
    "data_dir = \"data\""
   ]
  },
  {
   "cell_type": "markdown",
   "metadata": {},
   "source": [
    "# Input Prediction"
   ]
  },
  {
   "cell_type": "code",
   "execution_count": 6,
   "metadata": {},
   "outputs": [],
   "source": [
    "def _get_prices_remote(ticker, file_name):\n",
    "    print(f\"Fetching {ticker} from yfinance...\")\n",
    "    \n",
    "    yf_ticker = yf.Ticker(ticker)\n",
    "    prices = yf_ticker.history(period=\"max\")\n",
    "    \n",
    "    prices.reset_index().to_csv(file_name, index=False)\n",
    "    \n",
    "    return prices"
   ]
  },
  {
   "cell_type": "code",
   "execution_count": 7,
   "metadata": {},
   "outputs": [],
   "source": [
    "def get_prices(ticker):\n",
    "    file_name = f\"{data_dir}/{ticker}.csv\"\n",
    "    \n",
    "    if not os.path.exists(file_name):\n",
    "        return _get_prices_remote(ticker, file_name)\n",
    "\n",
    "    now = time.time()\n",
    "    stat = os.stat(file_name)\n",
    "    if (now - stat.st_mtime) > (60 * 60 * 24):\n",
    "        return _get_prices_remote(ticker, file_name)\n",
    "    \n",
    "    prices = pd.read_csv(file_name)\n",
    "    prices[\"Date\"] = pd.to_datetime(prices[\"Date\"])\n",
    "    prices = prices.set_index(\"Date\")\n",
    "    \n",
    "        \n",
    "    return prices"
   ]
  },
  {
   "cell_type": "code",
   "execution_count": 8,
   "metadata": {
    "scrolled": true
   },
   "outputs": [
    {
     "name": "stdout",
     "output_type": "stream",
     "text": [
      "Fetching 0001.HK from yfinance...\n"
     ]
    },
    {
     "data": {
      "text/plain": [
       "DatetimeIndex(['2000-01-04', '2000-01-05', '2000-01-06', '2000-01-07',\n",
       "               '2000-01-10', '2000-01-11', '2000-01-12', '2000-01-13',\n",
       "               '2000-01-14', '2000-01-17',\n",
       "               ...\n",
       "               '2020-05-25', '2020-05-26', '2020-05-27', '2020-05-28',\n",
       "               '2020-05-29', '2020-06-01', '2020-06-02', '2020-06-03',\n",
       "               '2020-06-04', '2020-06-05'],\n",
       "              dtype='datetime64[ns]', name='Date', length=5099, freq=None)"
      ]
     },
     "execution_count": 8,
     "metadata": {},
     "output_type": "execute_result"
    }
   ],
   "source": [
    "get_prices(\"0001.HK\").index"
   ]
  },
  {
   "cell_type": "code",
   "execution_count": 9,
   "metadata": {},
   "outputs": [],
   "source": [
    "def get_results(file_name):\n",
    "    cols = ((\"prediction_date\", \"datetime64[ns]\", True),\n",
    "            (\"author\", str, True),\n",
    "            (\"ticker\", str, True),\n",
    "            (\"upper_target_price\", float, False),\n",
    "            (\"low_target_price\", float, False),\n",
    "            (\"stop_loss_price\", float, False),\n",
    "            (\"result\", str, False))\n",
    "\n",
    "    index = list((col[0] for col in filter(lambda cols: cols[2], cols)))\n",
    "    \n",
    "    if not os.path.exists(file_name):\n",
    "        df = pd.DataFrame()\n",
    "        for c, t, i in cols:\n",
    "            df[c] = pd.Series(dtype=t)\n",
    "\n",
    "        df = df.set_index(index)\n",
    "        return df\n",
    "\n",
    "    df = pd.read_csv(file_name)\n",
    "    for c, t, i in cols:\n",
    "        df[c] = df[c].astype(t)\n",
    "    \n",
    "    df = df.set_index(index)\n",
    "    return df"
   ]
  },
  {
   "cell_type": "code",
   "execution_count": 10,
   "metadata": {},
   "outputs": [],
   "source": [
    "def save_prediction_result(ticker, prediction_date, upper_target_price, lower_target_price, stop_loss_price,\n",
    "                           title, author, result):\n",
    "    file_name = f\"{data_dir}/prediction_results.csv\"\n",
    "    results = get_results(file_name)\n",
    "\n",
    "    results.loc[(prediction_date, author, ticker)] = (upper_target_price, lower_target_price, stop_loss_price, result)\n",
    "    \n",
    "    results.to_csv(file_name)\n",
    "    return results"
   ]
  },
  {
   "cell_type": "code",
   "execution_count": 11,
   "metadata": {},
   "outputs": [
    {
     "data": {
      "text/html": [
       "<div>\n",
       "<style scoped>\n",
       "    .dataframe tbody tr th:only-of-type {\n",
       "        vertical-align: middle;\n",
       "    }\n",
       "\n",
       "    .dataframe tbody tr th {\n",
       "        vertical-align: top;\n",
       "    }\n",
       "\n",
       "    .dataframe thead th {\n",
       "        text-align: right;\n",
       "    }\n",
       "</style>\n",
       "<table border=\"1\" class=\"dataframe\">\n",
       "  <thead>\n",
       "    <tr style=\"text-align: right;\">\n",
       "      <th></th>\n",
       "      <th></th>\n",
       "      <th></th>\n",
       "      <th>upper_target_price</th>\n",
       "      <th>low_target_price</th>\n",
       "      <th>stop_loss_price</th>\n",
       "      <th>result</th>\n",
       "    </tr>\n",
       "    <tr>\n",
       "      <th>prediction_date</th>\n",
       "      <th>author</th>\n",
       "      <th>ticker</th>\n",
       "      <th></th>\n",
       "      <th></th>\n",
       "      <th></th>\n",
       "      <th></th>\n",
       "    </tr>\n",
       "  </thead>\n",
       "  <tbody>\n",
       "    <tr>\n",
       "      <th>2019-07-02</th>\n",
       "      <th>邱古奇</th>\n",
       "      <th>1347.HK</th>\n",
       "      <td>18.0</td>\n",
       "      <td>17.3</td>\n",
       "      <td>14.3000</td>\n",
       "      <td>Profit</td>\n",
       "    </tr>\n",
       "    <tr>\n",
       "      <th>2019-01-04</th>\n",
       "      <th>邱古奇</th>\n",
       "      <th>1787.HK</th>\n",
       "      <td>0.0</td>\n",
       "      <td>0.0</td>\n",
       "      <td>0.0000</td>\n",
       "      <td>Profit</td>\n",
       "    </tr>\n",
       "    <tr>\n",
       "      <th>2019-01-07</th>\n",
       "      <th>邱古奇</th>\n",
       "      <th>0323.HK</th>\n",
       "      <td>3.7</td>\n",
       "      <td>3.5</td>\n",
       "      <td>2.7837</td>\n",
       "      <td>Profit</td>\n",
       "    </tr>\n",
       "    <tr>\n",
       "      <th>2019-01-08</th>\n",
       "      <th>邱古奇</th>\n",
       "      <th>2342.HK</th>\n",
       "      <td>0.0</td>\n",
       "      <td>1.7</td>\n",
       "      <td>1.4220</td>\n",
       "      <td>Profit</td>\n",
       "    </tr>\n",
       "  </tbody>\n",
       "</table>\n",
       "</div>"
      ],
      "text/plain": [
       "                                upper_target_price  low_target_price  \\\n",
       "prediction_date author ticker                                          \n",
       "2019-07-02      邱古奇    1347.HK                18.0              17.3   \n",
       "2019-01-04      邱古奇    1787.HK                 0.0               0.0   \n",
       "2019-01-07      邱古奇    0323.HK                 3.7               3.5   \n",
       "2019-01-08      邱古奇    2342.HK                 0.0               1.7   \n",
       "\n",
       "                                stop_loss_price  result  \n",
       "prediction_date author ticker                            \n",
       "2019-07-02      邱古奇    1347.HK          14.3000  Profit  \n",
       "2019-01-04      邱古奇    1787.HK           0.0000  Profit  \n",
       "2019-01-07      邱古奇    0323.HK           2.7837  Profit  \n",
       "2019-01-08      邱古奇    2342.HK           1.4220  Profit  "
      ]
     },
     "execution_count": 11,
     "metadata": {},
     "output_type": "execute_result"
    }
   ],
   "source": [
    "ticker = \"1347.HK\"\n",
    "\n",
    "prediction_date = date(2019,7, 2)\n",
    "upper_target_price = 18\n",
    "lower_target_price = 17.3\n",
    "stop_loss_price = 14.3\n",
    "\n",
    "title=u\"晶片股調整夠 華虹現價買入\"\n",
    "author=u\"邱古奇\"\n",
    "\n",
    "save_prediction_result(ticker, prediction_date, \n",
    "                       upper_target_price, lower_target_price, stop_loss_price, \n",
    "                       title, author, \"Profit\")"
   ]
  },
  {
   "cell_type": "code",
   "execution_count": 12,
   "metadata": {},
   "outputs": [],
   "source": [
    "def simulate_prediction(ticker, prediction_date, upper_target_price, lower_target_price, stop_loss_price, title, author):\n",
    "    last_holding_date = prediction_date + timedelta(days=31)\n",
    "\n",
    "    ceiling = lower_target_price\n",
    "    floor = stop_loss_price\n",
    "\n",
    "    prices = get_prices(ticker)\n",
    "    for row in prices.itertuples(name=\"Price\"):\n",
    "        #if row.Index < prediction_date:\n",
    "        if row.Index < last_holding_date:\n",
    "            continue\n",
    "\n",
    "        if row.Close >= ceiling:\n",
    "            return {\"result\": \"Profit\", \"date\": row.Index, \"price\": row.Close}\n",
    "            break\n",
    "\n",
    "        if row.Close <= floor:\n",
    "            return {\"result\": \"Loss\", \"date\": row.Index, \"price\": row.Close}\n",
    "            break\n",
    "            \n",
    "    return {\"result\": \"N/A\", \"date\": None, \"price\": None}\n",
    "\n",
    "        \n"
   ]
  },
  {
   "cell_type": "code",
   "execution_count": 13,
   "metadata": {},
   "outputs": [],
   "source": [
    "def plot_prediction(ticker, prediction_date, upper_target_price, lower_target_price, stop_loss_price,\n",
    "                    title, author):\n",
    "    if not ticker:\n",
    "        return\n",
    "    \n",
    "    prices = get_prices(ticker)\n",
    "    \n",
    "    data = prices[\"Close\"]\n",
    "\n",
    "    start_date = prediction_date - timedelta(days=30)\n",
    "    start_date = date(start_date.year, start_date.month, 1)\n",
    "    data = data[data.index >= np.datetime64(start_date)]\n",
    "\n",
    "    #plt.xkcd()\n",
    "    plt.figure(figsize=(15, 10))\n",
    "\n",
    "    plt.axvline(prediction_date, label=\"prediction date\", c=\"black\")\n",
    "\n",
    "    last_holding_date = prediction_date + timedelta(days=31)\n",
    "    plt.axvline(last_holding_date, label=\"last day of holding\", c=\"brown\")\n",
    "\n",
    "    if upper_target_price != 0.0:\n",
    "        plt.axhline(upper_target_price, label=\"upper target price\", c=\"green\")\n",
    "    \n",
    "    if lower_target_price != 0.0:\n",
    "        plt.axhline(lower_target_price, label=\"lower target price\", c=\"limegreen\")\n",
    "    \n",
    "    if stop_loss_price == 0.0:\n",
    "        stop_loss_price = data.loc[prediction_date] * 0.9\n",
    "    \n",
    "    plt.axhline(stop_loss_price, label=\"stop price price\", c=\"red\")\n",
    "\n",
    "    result = simulate_prediction(ticker, prediction_date, upper_target_price, lower_target_price, stop_loss_price,\n",
    "                                 title, author)\n",
    "    \n",
    "    save_prediction_result(ticker, prediction_date, \n",
    "                       upper_target_price, lower_target_price, stop_loss_price, \n",
    "                       title, author, result[\"result\"])\n",
    "    \n",
    "    if result[\"date\"] is not None:\n",
    "        #plt.text(x=result[\"date\"], y=result[\"price\"], s=result[\"result\"])\n",
    "        plt.annotate(s=result[\"result\"], xy=(result[\"date\"], result[\"price\"]),\n",
    "                     xytext=(result[\"date\"], result[\"price\"]*1.2),\n",
    "                     arrowprops=dict(arrowstyle=\"->\"),\n",
    "                    fontsize=20)\n",
    "    \n",
    "    prop = mfm.FontProperties(fname=font_path) # find this font\n",
    "\n",
    "    plt.suptitle(title, fontproperties=prop, fontsize=30)\n",
    "    plt.title(author, fontproperties=prop, fontsize=20)\n",
    "    plt.legend()\n",
    "    \n",
    "    data.plot(legend=False, grid=True)"
   ]
  },
  {
   "cell_type": "code",
   "execution_count": 14,
   "metadata": {},
   "outputs": [
    {
     "data": {
      "application/vnd.jupyter.widget-view+json": {
       "model_id": "ac220350a84c45f9ae1c1da13632c471",
       "version_major": 2,
       "version_minor": 0
      },
      "text/plain": [
       "interactive(children=(Text(value='', description='ticker'), DatePicker(value=None, description='Prediction Dat…"
      ]
     },
     "metadata": {},
     "output_type": "display_data"
    },
    {
     "data": {
      "text/plain": [
       "<function __main__.plot_prediction(ticker, prediction_date, upper_target_price, lower_target_price, stop_loss_price, title, author)>"
      ]
     },
     "execution_count": 14,
     "metadata": {},
     "output_type": "execute_result"
    }
   ],
   "source": [
    "ticker = \"1347.HK\"\n",
    "\n",
    "prediction_date = date(2019,7, 2)\n",
    "upper_target_price = 18\n",
    "lower_target_price = 17.3\n",
    "stop_loss_price = 14.3\n",
    "\n",
    "title=u\"晶片股調整夠 華虹現價買入\"\n",
    "author=u\"邱古奇\"\n",
    "\n",
    "\n",
    "#plot_prediction(ticker, prediction_date, upper_target_price, lower_target_price, stop_loss_price, title, author)\n",
    "    \n",
    "interact_manual(plot_prediction,\n",
    "                ticker=\"\", \n",
    "                prediction_date=widgets.DatePicker(description=\"Prediction Date\"),\n",
    "                upper_target_price=widgets.FloatText(description=\"Upper Target\"),\n",
    "                lower_target_price=widgets.FloatText(description=\"Lower Target\"),\n",
    "                stop_loss_price=widgets.FloatText(description=\"Stop Loss\"),\n",
    "                title=\"\",\n",
    "                author=\"邱古奇\")"
   ]
  },
  {
   "cell_type": "code",
   "execution_count": null,
   "metadata": {},
   "outputs": [],
   "source": []
  }
 ],
 "metadata": {
  "kernelspec": {
   "display_name": "Python 3",
   "language": "python",
   "name": "python3"
  },
  "language_info": {
   "codemirror_mode": {
    "name": "ipython",
    "version": 3
   },
   "file_extension": ".py",
   "mimetype": "text/x-python",
   "name": "python",
   "nbconvert_exporter": "python",
   "pygments_lexer": "ipython3",
   "version": "3.8.2"
  }
 },
 "nbformat": 4,
 "nbformat_minor": 4
}
