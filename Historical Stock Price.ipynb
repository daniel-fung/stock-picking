{
 "cells": [
  {
   "cell_type": "code",
   "execution_count": 1,
   "metadata": {},
   "outputs": [],
   "source": [
    "import yfinance as yf\n",
    "\n",
    "import pandas as pd\n",
    "import numpy as np\n",
    "\n",
    "from ipywidgets import interact, interact_manual\n",
    "import ipywidgets as widgets\n",
    "\n",
    "from datetime import date, timedelta, datetime\n",
    "import os\n",
    "import os.path\n",
    "import time\n",
    "\n",
    "import history"
   ]
  },
  {
   "cell_type": "code",
   "execution_count": 2,
   "metadata": {},
   "outputs": [],
   "source": [
    "import matplotlib.pyplot as plt\n",
    "import matplotlib.font_manager as mfm\n",
    "\n",
    "%matplotlib inline"
   ]
  },
  {
   "cell_type": "markdown",
   "metadata": {},
   "source": [
    "# Analysis"
   ]
  },
  {
   "cell_type": "code",
   "execution_count": 3,
   "metadata": {
    "scrolled": true
   },
   "outputs": [
    {
     "name": "stdout",
     "output_type": "stream",
     "text": [
      "CPU times: user 20.9 ms, sys: 210 µs, total: 21.1 ms\n",
      "Wall time: 19.4 ms\n"
     ]
    },
    {
     "data": {
      "text/plain": [
       "DatetimeIndex(['2000-01-04', '2000-01-05', '2000-01-06', '2000-01-07',\n",
       "               '2000-01-10', '2000-01-11', '2000-01-12', '2000-01-13',\n",
       "               '2000-01-14', '2000-01-17',\n",
       "               ...\n",
       "               '2020-05-25', '2020-05-26', '2020-05-27', '2020-05-28',\n",
       "               '2020-05-29', '2020-06-01', '2020-06-02', '2020-06-03',\n",
       "               '2020-06-04', '2020-06-05'],\n",
       "              dtype='datetime64[ns]', name='Date', length=5099, freq=None)"
      ]
     },
     "execution_count": 3,
     "metadata": {},
     "output_type": "execute_result"
    }
   ],
   "source": [
    "%%time\n",
    "\n",
    "ticker = \"0002.HK\"\n",
    "prices = history.get_prices(ticker)\n",
    "prices.index"
   ]
  },
  {
   "cell_type": "code",
   "execution_count": 4,
   "metadata": {},
   "outputs": [
    {
     "data": {
      "text/html": [
       "<div>\n",
       "<style scoped>\n",
       "    .dataframe tbody tr th:only-of-type {\n",
       "        vertical-align: middle;\n",
       "    }\n",
       "\n",
       "    .dataframe tbody tr th {\n",
       "        vertical-align: top;\n",
       "    }\n",
       "\n",
       "    .dataframe thead th {\n",
       "        text-align: right;\n",
       "    }\n",
       "</style>\n",
       "<table border=\"1\" class=\"dataframe\">\n",
       "  <thead>\n",
       "    <tr style=\"text-align: right;\">\n",
       "      <th></th>\n",
       "      <th>Open</th>\n",
       "      <th>High</th>\n",
       "      <th>Low</th>\n",
       "      <th>Close</th>\n",
       "      <th>Volume</th>\n",
       "      <th>Dividends</th>\n",
       "      <th>Stock Splits</th>\n",
       "    </tr>\n",
       "    <tr>\n",
       "      <th>Date</th>\n",
       "      <th></th>\n",
       "      <th></th>\n",
       "      <th></th>\n",
       "      <th></th>\n",
       "      <th></th>\n",
       "      <th></th>\n",
       "      <th></th>\n",
       "    </tr>\n",
       "  </thead>\n",
       "  <tbody>\n",
       "    <tr>\n",
       "      <th>2020-06-02</th>\n",
       "      <td>77.400</td>\n",
       "      <td>78.150</td>\n",
       "      <td>77.250</td>\n",
       "      <td>78.100</td>\n",
       "      <td>2941082</td>\n",
       "      <td>0.63</td>\n",
       "      <td>0</td>\n",
       "    </tr>\n",
       "    <tr>\n",
       "      <th>2020-03-06</th>\n",
       "      <td>82.034</td>\n",
       "      <td>82.183</td>\n",
       "      <td>81.141</td>\n",
       "      <td>81.935</td>\n",
       "      <td>5620440</td>\n",
       "      <td>1.19</td>\n",
       "      <td>0</td>\n",
       "    </tr>\n",
       "    <tr>\n",
       "      <th>2020-03-05</th>\n",
       "      <td>79.799</td>\n",
       "      <td>82.342</td>\n",
       "      <td>79.799</td>\n",
       "      <td>82.342</td>\n",
       "      <td>10261048</td>\n",
       "      <td>1.19</td>\n",
       "      <td>0</td>\n",
       "    </tr>\n",
       "    <tr>\n",
       "      <th>2019-12-02</th>\n",
       "      <td>77.772</td>\n",
       "      <td>77.869</td>\n",
       "      <td>76.953</td>\n",
       "      <td>76.953</td>\n",
       "      <td>2207530</td>\n",
       "      <td>0.63</td>\n",
       "      <td>0</td>\n",
       "    </tr>\n",
       "    <tr>\n",
       "      <th>2019-09-02</th>\n",
       "      <td>75.540</td>\n",
       "      <td>76.448</td>\n",
       "      <td>74.775</td>\n",
       "      <td>74.966</td>\n",
       "      <td>3032723</td>\n",
       "      <td>0.63</td>\n",
       "      <td>0</td>\n",
       "    </tr>\n",
       "    <tr>\n",
       "      <th>2019-05-31</th>\n",
       "      <td>85.054</td>\n",
       "      <td>85.197</td>\n",
       "      <td>83.821</td>\n",
       "      <td>84.106</td>\n",
       "      <td>4174511</td>\n",
       "      <td>0.63</td>\n",
       "      <td>0</td>\n",
       "    </tr>\n",
       "    <tr>\n",
       "      <th>2019-03-08</th>\n",
       "      <td>86.532</td>\n",
       "      <td>86.673</td>\n",
       "      <td>85.684</td>\n",
       "      <td>85.684</td>\n",
       "      <td>2803054</td>\n",
       "      <td>1.19</td>\n",
       "      <td>0</td>\n",
       "    </tr>\n",
       "    <tr>\n",
       "      <th>2018-12-03</th>\n",
       "      <td>80.681</td>\n",
       "      <td>81.193</td>\n",
       "      <td>79.984</td>\n",
       "      <td>79.984</td>\n",
       "      <td>8074178</td>\n",
       "      <td>0.61</td>\n",
       "      <td>0</td>\n",
       "    </tr>\n",
       "    <tr>\n",
       "      <th>2018-09-03</th>\n",
       "      <td>84.174</td>\n",
       "      <td>85.882</td>\n",
       "      <td>84.081</td>\n",
       "      <td>85.605</td>\n",
       "      <td>2648564</td>\n",
       "      <td>0.61</td>\n",
       "      <td>0</td>\n",
       "    </tr>\n",
       "    <tr>\n",
       "      <th>2018-06-04</th>\n",
       "      <td>74.948</td>\n",
       "      <td>75.499</td>\n",
       "      <td>74.811</td>\n",
       "      <td>75.407</td>\n",
       "      <td>1724791</td>\n",
       "      <td>0.61</td>\n",
       "      <td>0</td>\n",
       "    </tr>\n",
       "  </tbody>\n",
       "</table>\n",
       "</div>"
      ],
      "text/plain": [
       "              Open    High     Low   Close    Volume  Dividends  Stock Splits\n",
       "Date                                                                         \n",
       "2020-06-02  77.400  78.150  77.250  78.100   2941082       0.63             0\n",
       "2020-03-06  82.034  82.183  81.141  81.935   5620440       1.19             0\n",
       "2020-03-05  79.799  82.342  79.799  82.342  10261048       1.19             0\n",
       "2019-12-02  77.772  77.869  76.953  76.953   2207530       0.63             0\n",
       "2019-09-02  75.540  76.448  74.775  74.966   3032723       0.63             0\n",
       "2019-05-31  85.054  85.197  83.821  84.106   4174511       0.63             0\n",
       "2019-03-08  86.532  86.673  85.684  85.684   2803054       1.19             0\n",
       "2018-12-03  80.681  81.193  79.984  79.984   8074178       0.61             0\n",
       "2018-09-03  84.174  85.882  84.081  85.605   2648564       0.61             0\n",
       "2018-06-04  74.948  75.499  74.811  75.407   1724791       0.61             0"
      ]
     },
     "execution_count": 4,
     "metadata": {},
     "output_type": "execute_result"
    }
   ],
   "source": [
    "prices[prices.Dividends > 0].sort_index(ascending=False).head(10)"
   ]
  },
  {
   "cell_type": "code",
   "execution_count": 5,
   "metadata": {},
   "outputs": [
    {
     "data": {
      "text/plain": [
       "datetime.datetime(2020, 1, 2, 0, 0)"
      ]
     },
     "execution_count": 5,
     "metadata": {},
     "output_type": "execute_result"
    }
   ],
   "source": [
    "datetime.strptime(\"20200102\", \"%Y%m%d\")"
   ]
  },
  {
   "cell_type": "code",
   "execution_count": 7,
   "metadata": {},
   "outputs": [
    {
     "data": {
      "text/plain": [
       "<matplotlib.axes._subplots.AxesSubplot at 0x7f18c98cdb20>"
      ]
     },
     "execution_count": 7,
     "metadata": {},
     "output_type": "execute_result"
    },
    {
     "data": {
      "image/png": "[encoded data removed]",
      "text/plain": [
       "<Figure size 1080x720 with 1 Axes>"
      ]
     },
     "metadata": {
      "needs_background": "light"
     },
     "output_type": "display_data"
    }
   ],
   "source": [
    "start_date = \"20200101\"\n",
    "start_date = datetime.strptime(\"20200102\", \"%Y%m%d\")\n",
    "\n",
    "close = prices[\"Close\"]\n",
    "close = close[close.index >= np.datetime64(start_date)]\n",
    "\n",
    "plt.figure(figsize=(15, 10))\n",
    "close.plot(legend=False, grid=True)"
   ]
  },
  {
   "cell_type": "code",
   "execution_count": null,
   "metadata": {},
   "outputs": [],
   "source": []
  }
 ],
 "metadata": {
  "kernelspec": {
   "display_name": "Python 3",
   "language": "python",
   "name": "python3"
  },
  "language_info": {
   "codemirror_mode": {
    "name": "ipython",
    "version": 3
   },
   "file_extension": ".py",
   "mimetype": "text/x-python",
   "name": "python",
   "nbconvert_exporter": "python",
   "pygments_lexer": "ipython3",
   "version": "3.8.2"
  }
 },
 "nbformat": 4,
 "nbformat_minor": 4
}
